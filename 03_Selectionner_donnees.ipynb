{
 "cells": [
  {
   "cell_type": "code",
   "execution_count": 1,
   "id": "4d3bb754-afca-4c64-907d-436c2deed00f",
   "metadata": {
    "tags": []
   },
   "outputs": [],
   "source": [
    "import pandas as pd\n",
    "df= pd.read_csv(\"data.csv\")"
   ]
  },
  {
   "cell_type": "code",
   "execution_count": 2,
   "id": "13cfa10e-99b7-45f8-974f-17b20e60d045",
   "metadata": {
    "tags": []
   },
   "outputs": [
    {
     "data": {
      "text/plain": [
       "['id',\n",
       " 'date',\n",
       " 'first_name',\n",
       " 'last_name',\n",
       " 'email',\n",
       " 'gender',\n",
       " 'ip_address',\n",
       " 'country',\n",
       " 'price_paid',\n",
       " 'tax']"
      ]
     },
     "execution_count": 2,
     "metadata": {},
     "output_type": "execute_result"
    }
   ],
   "source": [
    "df.columns.tolist()"
   ]
  },
  {
   "cell_type": "code",
   "execution_count": 3,
   "id": "9eeed8d2-cd83-46c6-851c-4dc3c19a0cbc",
   "metadata": {
    "tags": []
   },
   "outputs": [
    {
     "data": {
      "text/plain": [
       "0            malders0@shop-pro.jp\n",
       "1              hharridge1@gnu.org\n",
       "2           ekilminster2@etsy.com\n",
       "3                gbrantl3@umn.edu\n",
       "4             kbeasant4@jigsy.com\n",
       "                  ...            \n",
       "995          derrigorn@elpais.com\n",
       "996         arastallro@toplist.cz\n",
       "997    bstickelsrp@cloudflare.com\n",
       "998        ptesoerq@rakuten.co.jp\n",
       "999         rpringuerrr@house.gov\n",
       "Name: email, Length: 1000, dtype: object"
      ]
     },
     "execution_count": 3,
     "metadata": {},
     "output_type": "execute_result"
    }
   ],
   "source": [
    "df[\"email\"]"
   ]
  },
  {
   "cell_type": "code",
   "execution_count": 4,
   "id": "8c024790-637a-40f8-b4e8-60be32883b51",
   "metadata": {
    "tags": []
   },
   "outputs": [
    {
     "data": {
      "text/plain": [
       "0            malders0@shop-pro.jp\n",
       "1              hharridge1@gnu.org\n",
       "2           ekilminster2@etsy.com\n",
       "3                gbrantl3@umn.edu\n",
       "4             kbeasant4@jigsy.com\n",
       "                  ...            \n",
       "995          derrigorn@elpais.com\n",
       "996         arastallro@toplist.cz\n",
       "997    bstickelsrp@cloudflare.com\n",
       "998        ptesoerq@rakuten.co.jp\n",
       "999         rpringuerrr@house.gov\n",
       "Name: email, Length: 1000, dtype: object"
      ]
     },
     "execution_count": 4,
     "metadata": {},
     "output_type": "execute_result"
    }
   ],
   "source": [
    "df.email"
   ]
  },
  {
   "cell_type": "code",
   "execution_count": 5,
   "id": "84fdde35-51ee-4b7f-8534-8c0b232552e2",
   "metadata": {
    "tags": []
   },
   "outputs": [
    {
     "data": {
      "text/html": [
       "<div>\n",
       "<style scoped>\n",
       "    .dataframe tbody tr th:only-of-type {\n",
       "        vertical-align: middle;\n",
       "    }\n",
       "\n",
       "    .dataframe tbody tr th {\n",
       "        vertical-align: top;\n",
       "    }\n",
       "\n",
       "    .dataframe thead th {\n",
       "        text-align: right;\n",
       "    }\n",
       "</style>\n",
       "<table border=\"1\" class=\"dataframe\">\n",
       "  <thead>\n",
       "    <tr style=\"text-align: right;\">\n",
       "      <th></th>\n",
       "      <th>id</th>\n",
       "      <th>date</th>\n",
       "      <th>first_name</th>\n",
       "      <th>last_name</th>\n",
       "      <th>email</th>\n",
       "      <th>gender</th>\n",
       "      <th>ip_address</th>\n",
       "      <th>country</th>\n",
       "      <th>price_paid</th>\n",
       "      <th>tax</th>\n",
       "    </tr>\n",
       "  </thead>\n",
       "  <tbody>\n",
       "    <tr>\n",
       "      <th>10</th>\n",
       "      <td>11</td>\n",
       "      <td>03/11/2021</td>\n",
       "      <td>Lief</td>\n",
       "      <td>Woodcraft</td>\n",
       "      <td>lwoodcrafta@sitemeter.com</td>\n",
       "      <td>Male</td>\n",
       "      <td>201.76.240.51</td>\n",
       "      <td>Canada</td>\n",
       "      <td>$5.71</td>\n",
       "      <td>NaN</td>\n",
       "    </tr>\n",
       "    <tr>\n",
       "      <th>11</th>\n",
       "      <td>12</td>\n",
       "      <td>03/16/2021</td>\n",
       "      <td>Bailie</td>\n",
       "      <td>Wyman</td>\n",
       "      <td>bwymanb@lulu.com</td>\n",
       "      <td>Male</td>\n",
       "      <td>222.60.138.222</td>\n",
       "      <td>United States</td>\n",
       "      <td>$3.15</td>\n",
       "      <td>20.0</td>\n",
       "    </tr>\n",
       "    <tr>\n",
       "      <th>12</th>\n",
       "      <td>13</td>\n",
       "      <td>03/05/2021</td>\n",
       "      <td>Janice</td>\n",
       "      <td>Morillas</td>\n",
       "      <td>jmorillasc@miibeian.gov.cn</td>\n",
       "      <td>Female</td>\n",
       "      <td>24.25.198.252</td>\n",
       "      <td>Canada</td>\n",
       "      <td>$5.30</td>\n",
       "      <td>20.0</td>\n",
       "    </tr>\n",
       "    <tr>\n",
       "      <th>13</th>\n",
       "      <td>14</td>\n",
       "      <td>03/24/2021</td>\n",
       "      <td>Cull</td>\n",
       "      <td>Vassie</td>\n",
       "      <td>cvassied@unblog.fr</td>\n",
       "      <td>NaN</td>\n",
       "      <td>18.203.61.94</td>\n",
       "      <td>France</td>\n",
       "      <td>$5.97</td>\n",
       "      <td>20.0</td>\n",
       "    </tr>\n",
       "    <tr>\n",
       "      <th>14</th>\n",
       "      <td>15</td>\n",
       "      <td>03/21/2021</td>\n",
       "      <td>Oralie</td>\n",
       "      <td>Maryon</td>\n",
       "      <td>omaryone@va.gov</td>\n",
       "      <td>Female</td>\n",
       "      <td>215.248.16.198</td>\n",
       "      <td>United States</td>\n",
       "      <td>$4.53</td>\n",
       "      <td>20.0</td>\n",
       "    </tr>\n",
       "    <tr>\n",
       "      <th>15</th>\n",
       "      <td>16</td>\n",
       "      <td>03/24/2021</td>\n",
       "      <td>Julina</td>\n",
       "      <td>Faint</td>\n",
       "      <td>jfaintf@amazon.co.jp</td>\n",
       "      <td>Female</td>\n",
       "      <td>96.193.4.151</td>\n",
       "      <td>United States</td>\n",
       "      <td>$4.10</td>\n",
       "      <td>20.0</td>\n",
       "    </tr>\n",
       "    <tr>\n",
       "      <th>16</th>\n",
       "      <td>17</td>\n",
       "      <td>03/27/2021</td>\n",
       "      <td>Eve</td>\n",
       "      <td>Allaway</td>\n",
       "      <td>eallawayg@ebay.co.uk</td>\n",
       "      <td>Female</td>\n",
       "      <td>184.107.59.156</td>\n",
       "      <td>United States</td>\n",
       "      <td>$6.44</td>\n",
       "      <td>20.0</td>\n",
       "    </tr>\n",
       "    <tr>\n",
       "      <th>17</th>\n",
       "      <td>18</td>\n",
       "      <td>03/20/2021</td>\n",
       "      <td>Esta</td>\n",
       "      <td>Boulden</td>\n",
       "      <td>ebouldenh@posterous.com</td>\n",
       "      <td>NaN</td>\n",
       "      <td>220.109.140.190</td>\n",
       "      <td>United States</td>\n",
       "      <td>$3.16</td>\n",
       "      <td>20.0</td>\n",
       "    </tr>\n",
       "    <tr>\n",
       "      <th>18</th>\n",
       "      <td>19</td>\n",
       "      <td>03/16/2021</td>\n",
       "      <td>Judye</td>\n",
       "      <td>Behan</td>\n",
       "      <td>jbehani@google.es</td>\n",
       "      <td>Female</td>\n",
       "      <td>27.196.2.18</td>\n",
       "      <td>France</td>\n",
       "      <td>$4.90</td>\n",
       "      <td>20.0</td>\n",
       "    </tr>\n",
       "    <tr>\n",
       "      <th>19</th>\n",
       "      <td>20</td>\n",
       "      <td>03/01/2021</td>\n",
       "      <td>Sibeal</td>\n",
       "      <td>Mounch</td>\n",
       "      <td>smounchj@rakuten.co.jp</td>\n",
       "      <td>Male</td>\n",
       "      <td>218.17.7.177</td>\n",
       "      <td>Canada</td>\n",
       "      <td>$5.82</td>\n",
       "      <td>20.0</td>\n",
       "    </tr>\n",
       "  </tbody>\n",
       "</table>\n",
       "</div>"
      ],
      "text/plain": [
       "    id        date first_name  last_name                       email  gender  \\\n",
       "10  11  03/11/2021       Lief  Woodcraft   lwoodcrafta@sitemeter.com    Male   \n",
       "11  12  03/16/2021     Bailie      Wyman            bwymanb@lulu.com    Male   \n",
       "12  13  03/05/2021     Janice   Morillas  jmorillasc@miibeian.gov.cn  Female   \n",
       "13  14  03/24/2021       Cull     Vassie          cvassied@unblog.fr     NaN   \n",
       "14  15  03/21/2021     Oralie     Maryon             omaryone@va.gov  Female   \n",
       "15  16  03/24/2021     Julina      Faint        jfaintf@amazon.co.jp  Female   \n",
       "16  17  03/27/2021        Eve    Allaway        eallawayg@ebay.co.uk  Female   \n",
       "17  18  03/20/2021       Esta    Boulden     ebouldenh@posterous.com     NaN   \n",
       "18  19  03/16/2021      Judye      Behan           jbehani@google.es  Female   \n",
       "19  20  03/01/2021     Sibeal     Mounch      smounchj@rakuten.co.jp    Male   \n",
       "\n",
       "         ip_address        country price_paid   tax  \n",
       "10    201.76.240.51         Canada      $5.71   NaN  \n",
       "11   222.60.138.222  United States      $3.15  20.0  \n",
       "12    24.25.198.252         Canada      $5.30  20.0  \n",
       "13     18.203.61.94         France      $5.97  20.0  \n",
       "14   215.248.16.198  United States      $4.53  20.0  \n",
       "15     96.193.4.151  United States      $4.10  20.0  \n",
       "16   184.107.59.156  United States      $6.44  20.0  \n",
       "17  220.109.140.190  United States      $3.16  20.0  \n",
       "18      27.196.2.18         France      $4.90  20.0  \n",
       "19     218.17.7.177         Canada      $5.82  20.0  "
      ]
     },
     "execution_count": 5,
     "metadata": {},
     "output_type": "execute_result"
    }
   ],
   "source": [
    "df[10:20]"
   ]
  },
  {
   "cell_type": "code",
   "execution_count": 11,
   "id": "764aa6f0-ec3d-4787-8e39-63f34ad858e5",
   "metadata": {
    "tags": []
   },
   "outputs": [
    {
     "data": {
      "text/plain": [
       "[2,\n",
       " '03/19/2021',\n",
       " 'Hinda',\n",
       " 'Harridge',\n",
       " 'Female',\n",
       " '210.51.172.132',\n",
       " 'Canada',\n",
       " '$8.32',\n",
       " nan]"
      ]
     },
     "execution_count": 11,
     "metadata": {},
     "output_type": "execute_result"
    }
   ],
   "source": [
    "df_email=df.set_index(\"email\")\n",
    "df_email.loc['hharridge1@gnu.org'].values.tolist()\n",
    "\n"
   ]
  },
  {
   "cell_type": "code",
   "execution_count": 13,
   "id": "17c8c0bb-4cdd-4695-9438-66b636df560f",
   "metadata": {
    "tags": []
   },
   "outputs": [
    {
     "data": {
      "text/html": [
       "<div>\n",
       "<style scoped>\n",
       "    .dataframe tbody tr th:only-of-type {\n",
       "        vertical-align: middle;\n",
       "    }\n",
       "\n",
       "    .dataframe tbody tr th {\n",
       "        vertical-align: top;\n",
       "    }\n",
       "\n",
       "    .dataframe thead th {\n",
       "        text-align: right;\n",
       "    }\n",
       "</style>\n",
       "<table border=\"1\" class=\"dataframe\">\n",
       "  <thead>\n",
       "    <tr style=\"text-align: right;\">\n",
       "      <th></th>\n",
       "      <th>id</th>\n",
       "      <th>date</th>\n",
       "      <th>first_name</th>\n",
       "      <th>last_name</th>\n",
       "      <th>gender</th>\n",
       "      <th>ip_address</th>\n",
       "      <th>country</th>\n",
       "      <th>price_paid</th>\n",
       "      <th>tax</th>\n",
       "    </tr>\n",
       "    <tr>\n",
       "      <th>email</th>\n",
       "      <th></th>\n",
       "      <th></th>\n",
       "      <th></th>\n",
       "      <th></th>\n",
       "      <th></th>\n",
       "      <th></th>\n",
       "      <th></th>\n",
       "      <th></th>\n",
       "      <th></th>\n",
       "    </tr>\n",
       "  </thead>\n",
       "  <tbody>\n",
       "    <tr>\n",
       "      <th>ekilminster2@etsy.com</th>\n",
       "      <td>3</td>\n",
       "      <td>03/17/2021</td>\n",
       "      <td>Erl</td>\n",
       "      <td>Kilminster</td>\n",
       "      <td>Male</td>\n",
       "      <td>213.8.101.145</td>\n",
       "      <td>United States</td>\n",
       "      <td>$3.73</td>\n",
       "      <td>20.0</td>\n",
       "    </tr>\n",
       "    <tr>\n",
       "      <th>hharridge1@gnu.org</th>\n",
       "      <td>2</td>\n",
       "      <td>03/19/2021</td>\n",
       "      <td>Hinda</td>\n",
       "      <td>Harridge</td>\n",
       "      <td>Female</td>\n",
       "      <td>210.51.172.132</td>\n",
       "      <td>Canada</td>\n",
       "      <td>$8.32</td>\n",
       "      <td>NaN</td>\n",
       "    </tr>\n",
       "  </tbody>\n",
       "</table>\n",
       "</div>"
      ],
      "text/plain": [
       "                       id        date first_name   last_name  gender  \\\n",
       "email                                                                  \n",
       "ekilminster2@etsy.com   3  03/17/2021        Erl  Kilminster    Male   \n",
       "hharridge1@gnu.org      2  03/19/2021      Hinda    Harridge  Female   \n",
       "\n",
       "                           ip_address        country price_paid   tax  \n",
       "email                                                                  \n",
       "ekilminster2@etsy.com   213.8.101.145  United States      $3.73  20.0  \n",
       "hharridge1@gnu.org     210.51.172.132         Canada      $8.32   NaN  "
      ]
     },
     "execution_count": 13,
     "metadata": {},
     "output_type": "execute_result"
    }
   ],
   "source": [
    "df_email.loc[['ekilminster2@etsy.com','hharridge1@gnu.org']]"
   ]
  },
  {
   "cell_type": "code",
   "execution_count": null,
   "id": "22654133-34b5-4d92-8973-173d463b58e5",
   "metadata": {},
   "outputs": [],
   "source": []
  }
 ],
 "metadata": {
  "kernelspec": {
   "display_name": "Python 3 (ipykernel)",
   "language": "python",
   "name": "python3"
  },
  "language_info": {
   "codemirror_mode": {
    "name": "ipython",
    "version": 3
   },
   "file_extension": ".py",
   "mimetype": "text/x-python",
   "name": "python",
   "nbconvert_exporter": "python",
   "pygments_lexer": "ipython3",
   "version": "3.11.5"
  }
 },
 "nbformat": 4,
 "nbformat_minor": 5
}
